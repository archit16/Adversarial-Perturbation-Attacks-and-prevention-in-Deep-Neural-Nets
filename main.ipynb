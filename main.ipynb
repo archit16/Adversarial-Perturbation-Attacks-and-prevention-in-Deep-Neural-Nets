{
  "nbformat": 4,
  "nbformat_minor": 0,
  "metadata": {
    "colab": {
      "name": "Lab2ax368.ipynb",
      "provenance": [],
      "collapsed_sections": []
    },
    "kernelspec": {
      "name": "python3",
      "display_name": "Python 3"
    },
    "accelerator": "TPU"
  },
  "cells": [
    {
      "cell_type": "code",
      "metadata": {
        "id": "UjNn7tIOL_xy"
      },
      "source": [
        "import tensorflow as tf\n",
        "import matplotlib.pyplot as plt\n",
        "import numpy as np"
      ],
      "execution_count": null,
      "outputs": []
    },
    {
      "cell_type": "markdown",
      "metadata": {
        "id": "VNsVK9qxhZJ2"
      },
      "source": [
        "The code below loads the dataset, divides it inot test and train set and then converts the numpy arrays into tensors."
      ]
    },
    {
      "cell_type": "code",
      "metadata": {
        "id": "th4wMqnVMDS6",
        "colab": {
          "base_uri": "https://localhost:8080/",
          "height": 299
        },
        "outputId": "e599b597-ef6c-4d1c-bb76-395180105ec4"
      },
      "source": [
        "mnist = tf.keras.datasets.mnist\n",
        "\n",
        "(x_train, y_train), (x_test, y_test) = mnist.load_data()\n",
        "x_train, x_test = x_train / 255.0, x_test / 255.0\n",
        "x_train = tf.convert_to_tensor(x_train, dtype=tf.float32)\n",
        "x_test = tf.convert_to_tensor(x_test, dtype=tf.float32)\n",
        "y_test_adv = (y_test+1)%10\n",
        "y_train = tf.convert_to_tensor(y_train)\n",
        "y_test = tf.convert_to_tensor(y_test)\n",
        "y_test_adv = tf.convert_to_tensor(y_test_adv)\n",
        "\n",
        "plt.imshow(x_test[0])\n",
        "print(y_test_adv[0])\n",
        "print(y_test[0])"
      ],
      "execution_count": null,
      "outputs": [
        {
          "output_type": "stream",
          "text": [
            "tf.Tensor(8, shape=(), dtype=uint8)\n",
            "tf.Tensor(7, shape=(), dtype=uint8)\n"
          ],
          "name": "stdout"
        },
        {
          "output_type": "display_data",
          "data": {
            "image/png": "[encoded data removed]",
            "text/plain": [
              "<Figure size 432x288 with 1 Axes>"
            ]
          },
          "metadata": {
            "tags": [],
            "needs_background": "light"
          }
        }
      ]
    },
    {
      "cell_type": "markdown",
      "metadata": {
        "id": "6jtpYCT3lULv"
      },
      "source": [
        "The NN model below is a 2 layered model with dropout regularization with dropout probability of 0.2. The relu activation unction is used in the hidden layer."
      ]
    },
    {
      "cell_type": "code",
      "metadata": {
        "id": "Ah8nW3NjMIlK"
      },
      "source": [
        "model = tf.keras.models.Sequential([\n",
        "  tf.keras.layers.Flatten(input_shape=(28, 28)),\n",
        "  tf.keras.layers.Dense(128, activation='relu'),\n",
        "  tf.keras.layers.Dropout(0.2),\n",
        "  tf.keras.layers.Dense(10)\n",
        "])"
      ],
      "execution_count": null,
      "outputs": []
    },
    {
      "cell_type": "markdown",
      "metadata": {
        "id": "a-jfQsTxmdqa"
      },
      "source": [
        "We are using Sparse Categorical Loss as the loss function. This is because we have multiple classes and the classes are not one hot encoded."
      ]
    },
    {
      "cell_type": "code",
      "metadata": {
        "id": "gPoivCfUmAlD"
      },
      "source": [
        "loss_fn = tf.keras.losses.SparseCategoricalCrossentropy(from_logits=True)"
      ],
      "execution_count": null,
      "outputs": []
    },
    {
      "cell_type": "code",
      "metadata": {
        "id": "VfyQ9zvNmXcL"
      },
      "source": [
        "model.compile(optimizer='adam',\n",
        "              loss=loss_fn,\n",
        "              metrics=['accuracy'])"
      ],
      "execution_count": null,
      "outputs": []
    },
    {
      "cell_type": "code",
      "metadata": {
        "id": "mUzZgRV_maBe",
        "colab": {
          "base_uri": "https://localhost:8080/"
        },
        "outputId": "c6882e25-ab53-4faa-a421-241cb61a9a26"
      },
      "source": [
        "model.fit(x_train, y_train, epochs=5)"
      ],
      "execution_count": null,
      "outputs": [
        {
          "output_type": "stream",
          "text": [
            "Epoch 1/5\n",
            "1875/1875 [==============================] - 3s 2ms/step - loss: 0.2991 - accuracy: 0.9132\n",
            "Epoch 2/5\n",
            "1875/1875 [==============================] - 4s 2ms/step - loss: 0.1470 - accuracy: 0.9565\n",
            "Epoch 3/5\n",
            "1875/1875 [==============================] - 4s 2ms/step - loss: 0.1098 - accuracy: 0.9666\n",
            "Epoch 4/5\n",
            "1875/1875 [==============================] - 4s 2ms/step - loss: 0.0887 - accuracy: 0.9728\n",
            "Epoch 5/5\n",
            "1875/1875 [==============================] - 4s 2ms/step - loss: 0.0775 - accuracy: 0.9759\n"
          ],
          "name": "stdout"
        },
        {
          "output_type": "execute_result",
          "data": {
            "text/plain": [
              "<tensorflow.python.keras.callbacks.History at 0x7f9f985d30f0>"
            ]
          },
          "metadata": {
            "tags": []
          },
          "execution_count": 46
        }
      ]
    },
    {
      "cell_type": "code",
      "metadata": {
        "id": "nJWb58dxmdaZ",
        "colab": {
          "base_uri": "https://localhost:8080/"
        },
        "outputId": "8053b5ae-ee5c-41e1-dae3-9464cadaed78"
      },
      "source": [
        "print(\"Model Accuracy is: \", model.evaluate(x_test,  y_test, verbose=2)[1])"
      ],
      "execution_count": null,
      "outputs": [
        {
          "output_type": "stream",
          "text": [
            "313/313 - 0s - loss: 0.0689 - accuracy: 0.9791\n",
            "Model Accuracy is:  0.9790999889373779\n"
          ],
          "name": "stdout"
        }
      ]
    },
    {
      "cell_type": "markdown",
      "metadata": {
        "id": "E9nMFkcSms5q"
      },
      "source": [
        "The code below creates perturbed images for untargeted attacks."
      ]
    },
    {
      "cell_type": "code",
      "metadata": {
        "id": "EUxXzjostLE0"
      },
      "source": [
        "def create_perturbed_image_untargeted(image_inp, label_t, epsilon):\n",
        "  with tf.GradientTape() as g:\n",
        "    g.watch(image_inp)\n",
        "    prediction_t = model(image_inp)\n",
        "    loss_t = loss_fn(label_t, prediction_t)\n",
        "  gradient = g.gradient(loss_t, image_inp)\n",
        "  signed_grad = tf.sign(gradient)\n",
        "  new_image = image_inp + np.clip((epsilon * signed_grad), 0, 1)\n",
        "\n",
        "  return new_image"
      ],
      "execution_count": null,
      "outputs": []
    },
    {
      "cell_type": "markdown",
      "metadata": {
        "id": "XElRjW17nUTa"
      },
      "source": [
        "The code below creates perturbed images for targeted attacks."
      ]
    },
    {
      "cell_type": "code",
      "metadata": {
        "id": "bFYz5I4VkDm6"
      },
      "source": [
        "def create_perturbed_image_targeted(image_inp, label_t, epsilon):\n",
        "  with tf.GradientTape() as g:\n",
        "    g.watch(image_inp)\n",
        "    prediction_t = model(image_inp)\n",
        "    loss_t = loss_fn(label_t, prediction_t)\n",
        "  gradient = g.gradient(loss_t, image_inp)\n",
        "  signed_grad = tf.sign(gradient)\n",
        "  new_image = image_inp - np.clip((epsilon * signed_grad), 0, 1)\n",
        "\n",
        "  return new_image"
      ],
      "execution_count": null,
      "outputs": []
    },
    {
      "cell_type": "code",
      "metadata": {
        "id": "5oZCjyCY1Hel",
        "colab": {
          "base_uri": "https://localhost:8080/"
        },
        "outputId": "ea6027ac-9990-4b11-b0a6-9db2145ece17"
      },
      "source": [
        "epsilon = [1, 5, 10, 20, 30, 40, 50, 100]\n",
        "a = [0]*8\n",
        "n = 0\n",
        "\n",
        "print(\"For untargeted FGSM:\\n\")\n",
        "for k in epsilon:\n",
        "  print(\"Epsilon: \", k)\n",
        "  new_image = create_perturbed_image_untargeted(x_test, y_test, k/255)\n",
        "  a[n] = model.evaluate(new_image, y_test, verbose=2)[1]\n",
        "  n+=1\n",
        "  print(\"\\n\")"
      ],
      "execution_count": null,
      "outputs": [
        {
          "output_type": "stream",
          "text": [
            "For untargeted FGSM:\n",
            "\n",
            "Epsilon:  1\n",
            "313/313 - 0s - loss: 0.0847 - accuracy: 0.9749\n",
            "\n",
            "\n",
            "Epsilon:  5\n",
            "313/313 - 0s - loss: 0.1878 - accuracy: 0.9401\n",
            "\n",
            "\n",
            "Epsilon:  10\n",
            "313/313 - 0s - loss: 0.4685 - accuracy: 0.8495\n",
            "\n",
            "\n",
            "Epsilon:  20\n",
            "313/313 - 0s - loss: 1.7753 - accuracy: 0.4924\n",
            "\n",
            "\n",
            "Epsilon:  30\n",
            "313/313 - 0s - loss: 3.6995 - accuracy: 0.2350\n",
            "\n",
            "\n",
            "Epsilon:  40\n",
            "313/313 - 0s - loss: 5.7703 - accuracy: 0.1048\n",
            "\n",
            "\n",
            "Epsilon:  50\n",
            "313/313 - 0s - loss: 7.8521 - accuracy: 0.0493\n",
            "\n",
            "\n",
            "Epsilon:  100\n",
            "313/313 - 0s - loss: 18.6482 - accuracy: 0.0043\n",
            "\n",
            "\n"
          ],
          "name": "stdout"
        }
      ]
    },
    {
      "cell_type": "code",
      "metadata": {
        "id": "1l0h71qVWYeY",
        "colab": {
          "base_uri": "https://localhost:8080/",
          "height": 279
        },
        "outputId": "5637d0ef-7e9f-4420-8c47-abb5ff81be62"
      },
      "source": [
        "fig = plt.figure()\n",
        "ax = fig.add_subplot(111) \n",
        "ax.plot(epsilon, a)\n",
        "ax.set_ylabel('Accuracy')\n",
        "ax.set_xlabel('Epsilon')\n",
        "ax.xaxis.label.set_color('white') # Please use dark theme to view the labels of the graph else remove the color code.\n",
        "ax.yaxis.label.set_color('white')\n",
        "ax.tick_params(axis='x', colors = 'white')\n",
        "ax.tick_params(axis='y', colors = 'white')\n",
        "plt.show()"
      ],
      "execution_count": null,
      "outputs": [
        {
          "output_type": "display_data",
          "data": {
            "image/png": "[encoded data removed]",
            "text/plain": [
              "<Figure size 432x288 with 1 Axes>"
            ]
          },
          "metadata": {
            "tags": [],
            "needs_background": "dark"
          }
        }
      ]
    },
    {
      "cell_type": "code",
      "metadata": {
        "id": "Fc22IqzPRZkl",
        "colab": {
          "base_uri": "https://localhost:8080/"
        },
        "outputId": "c024ec3b-2db3-4539-aa5f-e616994b1b04"
      },
      "source": [
        "epsilon = [1, 5, 10, 20, 30, 40, 50, 100]\n",
        "b = [0]*8\n",
        "m = 0\n",
        "print(\"For targeted FGSM:\\n\")\n",
        "for k in epsilon:\n",
        "  print(\"Epsilon: \", k)\n",
        "  new_image_targeted = create_perturbed_image_targeted(x_test, y_test_adv, k/255)\n",
        "  b[m] = model.evaluate(new_image_targeted,  y_test_adv, verbose=2)[1]\n",
        "  m+=1\n",
        "  print(\"\\n\")"
      ],
      "execution_count": null,
      "outputs": [
        {
          "output_type": "stream",
          "text": [
            "For targeted FGSM:\n",
            "\n",
            "Epsilon:  1\n",
            "313/313 - 0s - loss: 15.5548 - accuracy: 0.0019\n",
            "\n",
            "\n",
            "Epsilon:  5\n",
            "313/313 - 0s - loss: 13.6739 - accuracy: 0.0073\n",
            "\n",
            "\n",
            "Epsilon:  10\n",
            "313/313 - 0s - loss: 11.4251 - accuracy: 0.0241\n",
            "\n",
            "\n",
            "Epsilon:  20\n",
            "313/313 - 0s - loss: 7.4734 - accuracy: 0.0966\n",
            "\n",
            "\n",
            "Epsilon:  30\n",
            "313/313 - 0s - loss: 4.5616 - accuracy: 0.2428\n",
            "\n",
            "\n",
            "Epsilon:  40\n",
            "313/313 - 0s - loss: 2.7609 - accuracy: 0.4367\n",
            "\n",
            "\n",
            "Epsilon:  50\n",
            "313/313 - 0s - loss: 1.7958 - accuracy: 0.5867\n",
            "\n",
            "\n",
            "Epsilon:  100\n",
            "313/313 - 0s - loss: 1.3348 - accuracy: 0.7492\n",
            "\n",
            "\n"
          ],
          "name": "stdout"
        }
      ]
    },
    {
      "cell_type": "code",
      "metadata": {
        "id": "MnYZ9T_JWx3-",
        "colab": {
          "base_uri": "https://localhost:8080/",
          "height": 279
        },
        "outputId": "c909ea33-405b-42f6-ca62-6f166d874ca7"
      },
      "source": [
        "fig = plt.figure()\n",
        "ax = fig.add_subplot(111) \n",
        "ax.plot(epsilon, b)\n",
        "ax.set_ylabel('Accuracy')\n",
        "ax.set_xlabel('Epsilon')\n",
        "ax.xaxis.label.set_color('white') # Please use dark theme to view the labels of the graph else remove the color code.\n",
        "ax.yaxis.label.set_color('white')\n",
        "ax.tick_params(axis='x', colors = 'white') \n",
        "ax.tick_params(axis='y', colors = 'white') \n",
        "plt.show()"
      ],
      "execution_count": null,
      "outputs": [
        {
          "output_type": "display_data",
          "data": {
            "image/png": "[encoded data removed]",
            "text/plain": [
              "<Figure size 432x288 with 1 Axes>"
            ]
          },
          "metadata": {
            "tags": [],
            "needs_background": "dark"
          }
        }
      ]
    },
    {
      "cell_type": "markdown",
      "metadata": {
        "id": "QzNdI8vLn9kW"
      },
      "source": [
        "The code below creates the new dataset that include the perturbed images."
      ]
    },
    {
      "cell_type": "code",
      "metadata": {
        "id": "vJe07ucZKIIs"
      },
      "source": [
        "adv_image = create_perturbed_image_untargeted(x_test, y_test, 10/255)\n",
        "New_x_train = np.append(x_train, adv_image, axis=0)\n",
        "New_y_train = np.append(y_train, y_test, axis=0)"
      ],
      "execution_count": null,
      "outputs": []
    },
    {
      "cell_type": "code",
      "metadata": {
        "id": "-vJc-fCULHz9",
        "colab": {
          "base_uri": "https://localhost:8080/"
        },
        "outputId": "b7e2d4a2-0939-47fd-c2c6-0d50b9ba025f"
      },
      "source": [
        "new_model = tf.keras.models.Sequential([\n",
        "  tf.keras.layers.Flatten(input_shape=(28, 28)),\n",
        "  tf.keras.layers.Dense(128, activation='relu'),\n",
        "  tf.keras.layers.Dropout(0.2),\n",
        "  tf.keras.layers.Dense(10)\n",
        "])\n",
        "new_model.compile(optimizer='adam',\n",
        "              loss=loss_fn,\n",
        "              metrics=['accuracy'])\n",
        "\n",
        "new_model.fit(New_x_train, New_y_train, epochs=5)"
      ],
      "execution_count": null,
      "outputs": [
        {
          "output_type": "stream",
          "text": [
            "Epoch 1/5\n",
            "2188/2188 [==============================] - 4s 2ms/step - loss: 0.2750 - accuracy: 0.9205\n",
            "Epoch 2/5\n",
            "2188/2188 [==============================] - 4s 2ms/step - loss: 0.1286 - accuracy: 0.9620\n",
            "Epoch 3/5\n",
            "2188/2188 [==============================] - 4s 2ms/step - loss: 0.0981 - accuracy: 0.9699\n",
            "Epoch 4/5\n",
            "2188/2188 [==============================] - 4s 2ms/step - loss: 0.0792 - accuracy: 0.9757\n",
            "Epoch 5/5\n",
            "2188/2188 [==============================] - 4s 2ms/step - loss: 0.0679 - accuracy: 0.9785\n"
          ],
          "name": "stdout"
        },
        {
          "output_type": "execute_result",
          "data": {
            "text/plain": [
              "<tensorflow.python.keras.callbacks.History at 0x7f9f985308d0>"
            ]
          },
          "metadata": {
            "tags": []
          },
          "execution_count": 65
        }
      ]
    },
    {
      "cell_type": "code",
      "metadata": {
        "id": "HMjm4NxdLlSO",
        "colab": {
          "base_uri": "https://localhost:8080/"
        },
        "outputId": "a2181be9-4b24-4236-c240-63ec9b06d47e"
      },
      "source": [
        "print(\"Retrained model accuracy on original dataset is: \", new_model.evaluate(x_test, y_test, verbose=2)[1])\n",
        "print(\"Retrained model accuracy on adversarial dataset is: \", new_model.evaluate(new_image, y_test, verbose=2)[1])"
      ],
      "execution_count": null,
      "outputs": [
        {
          "output_type": "stream",
          "text": [
            "313/313 - 0s - loss: 0.0477 - accuracy: 0.9849\n",
            "Retrained model accuracy on original dataset is:  0.9848999977111816\n",
            "313/313 - 0s - loss: 0.9293 - accuracy: 0.8845\n",
            "Retrained model accuracy on adversarial dataset is:  0.8845000267028809\n"
          ],
          "name": "stdout"
        }
      ]
    }
  ]
}